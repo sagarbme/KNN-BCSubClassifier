{
 "cells": [
  {
   "cell_type": "code",
   "execution_count": null,
   "id": "2520eb2b",
   "metadata": {
    "vscode": {
     "languageId": "plaintext"
    }
   },
   "outputs": [],
   "source": [
    "import pandas as pd\n",
    "import numpy as np\n",
    "from Bio import SeqIO\n",
    "import matplotlib.pyplot as plt\n",
    "import seaborn as sns\n",
    "from sklearn.model_selection import train_test_split\n",
    "from sklearn.preprocessing import StandardScaler\n",
    "from sklearn.neighbors import KNeighborsClassifier\n",
    "from sklearn.metrics import confusion_matrix, classification_report, ConfusionMatrixDisplay\n",
    "from tkinter import Tk, filedialog\n",
    "\n",
    "# For inline plotting\n",
    "%matplotlib inline\n",
    "sns.set(style=\"whitegrid\")\n"
   ]
  },
  {
   "cell_type": "code",
   "execution_count": null,
   "id": "e5f6ea7c",
   "metadata": {
    "vscode": {
     "languageId": "plaintext"
    }
   },
   "outputs": [],
   "source": [
    "# Load the CSV\n",
    "df = pd.read_csv(\"knn_ready_dataset.csv\")\n",
    "\n",
    "# Show a preview\n",
    "df.head()\n"
   ]
  },
  {
   "cell_type": "code",
   "execution_count": null,
   "id": "43ca456d",
   "metadata": {
    "vscode": {
     "languageId": "plaintext"
    }
   },
   "outputs": [],
   "source": [
    "# Define known breast cancer labels\n",
    "breast_types = ['LuminalA', 'LuminalB', 'HER2', 'Basal', 'NormalLike']\n",
    "\n",
    "# Filter the dataset\n",
    "df_bc = df[df['Label'].isin(breast_types)]\n",
    "\n",
    "print(\"Filtered dataset shape:\", df_bc.shape)\n",
    "df_bc['Label'].value_counts().plot(kind='bar', title='Breast Cancer Subtype Distribution')\n",
    "plt.ylabel(\"Number of Samples\")\n",
    "plt.show()\n"
   ]
  },
  {
   "cell_type": "code",
   "execution_count": null,
   "id": "ee6bcfaa",
   "metadata": {
    "vscode": {
     "languageId": "plaintext"
    }
   },
   "outputs": [],
   "source": [
    "amino_acids = list(\"ACDEFGHIKLMNPQRSTVWY\")\n",
    "X = df_bc[amino_acids].values\n",
    "y = df_bc['Label'].values\n",
    "\n",
    "# Standardize features\n",
    "scaler = StandardScaler()\n",
    "X_scaled = scaler.fit_transform(X)\n",
    "\n",
    "# Train-test split\n",
    "X_train, X_test, y_train, y_test = train_test_split(X_scaled, y, test_size=0.25, random_state=42, stratify=y)\n"
   ]
  },
  {
   "cell_type": "code",
   "execution_count": null,
   "id": "b3bc7818",
   "metadata": {
    "vscode": {
     "languageId": "plaintext"
    }
   },
   "outputs": [],
   "source": [
    "knn = KNeighborsClassifier(n_neighbors=5)\n",
    "knn.fit(X_train, y_train)\n",
    "\n",
    "print(\"KNN model trained on breast cancer types.\")\n"
   ]
  },
  {
   "cell_type": "code",
   "execution_count": null,
   "id": "fb49c3cd",
   "metadata": {
    "vscode": {
     "languageId": "plaintext"
    }
   },
   "outputs": [],
   "source": [
    "# Predict on test set\n",
    "y_pred = knn.predict(X_test)\n",
    "\n",
    "# Confusion Matrix\n",
    "cm = confusion_matrix(y_test, y_pred, labels=knn.classes_)\n",
    "disp = ConfusionMatrixDisplay(confusion_matrix=cm, display_labels=knn.classes_)\n",
    "disp.plot(cmap=\"YlGnBu\", xticks_rotation=45)\n",
    "plt.title(\"Confusion Matrix - Breast Cancer Subtypes\")\n",
    "plt.show()\n",
    "\n",
    "# Classification Report\n",
    "print(\" Classification Report:\\n\")\n",
    "print(classification_report(y_test, y_pred))\n"
   ]
  },
  {
   "cell_type": "code",
   "execution_count": null,
   "id": "17ecbb66",
   "metadata": {
    "vscode": {
     "languageId": "plaintext"
    }
   },
   "outputs": [],
   "source": [
    "# Helper: AAC calculator\n",
    "def compute_aac(sequence, amino_acids):\n",
    "    sequence = sequence.upper()\n",
    "    L = len(sequence)\n",
    "    return [sequence.count(aa) / L if L else 0 for aa in amino_acids]\n",
    "\n",
    "# Let user select a FASTA file\n",
    "root = Tk()\n",
    "root.withdraw()\n",
    "fasta_path = filedialog.askopenfilename(title=\"Select a FASTA file\", filetypes=[(\"FASTA files\", \"*.fasta *.fa\")])\n",
    "\n",
    "if fasta_path:\n",
    "    for record in SeqIO.parse(fasta_path, \"fasta\"):\n",
    "        aac_features = compute_aac(str(record.seq), amino_acids)\n",
    "        aac_scaled = scaler.transform([aac_features])\n",
    "        prediction = knn.predict(aac_scaled)\n",
    "        print(f\"\\n Sequence ID: {record.id}\")\n",
    "        print(f\" Predicted Breast Cancer Subtype: {prediction[0]}\")\n",
    "else:\n",
    "    print(\" No file selected.\")\n"
   ]
  },
  {
   "cell_type": "code",
   "execution_count": null,
   "id": "172f2838",
   "metadata": {
    "vscode": {
     "languageId": "plaintext"
    }
   },
   "outputs": [],
   "source": []
  }
 ],
 "metadata": {
  "language_info": {
   "name": "python"
  }
 },
 "nbformat": 4,
 "nbformat_minor": 5
}
